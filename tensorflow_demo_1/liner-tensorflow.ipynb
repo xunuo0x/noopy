{
 "cells": [
  {
   "cell_type": "code",
   "execution_count": 4,
   "metadata": {
    "collapsed": true
   },
   "outputs": [],
   "source": [
    "import tensorflow as tf\n",
    "import numpy as np"
   ]
  },
  {
   "cell_type": "code",
   "execution_count": 7,
   "metadata": {},
   "outputs": [
    {
     "name": "stdout",
     "output_type": "stream",
     "text": [
      "0 [0.1569798, 0.29930642]\n",
      "10 [0.3091173, 0.5948677]\n",
      "20 [0.3072632, 0.59618133]\n",
      "30 [0.30569902, 0.59700394]\n",
      "40 [0.30447158, 0.5976492]\n",
      "50 [0.30350855, 0.5981555]\n",
      "60 [0.30275285, 0.59855276]\n",
      "70 [0.30216, 0.59886444]\n",
      "80 [0.30169478, 0.59910905]\n",
      "90 [0.3013298, 0.5993009]\n",
      "100 [0.30104342, 0.5994515]\n",
      "110 [0.30081874, 0.59956956]\n",
      "120 [0.30064243, 0.59966224]\n",
      "130 [0.30050415, 0.59973496]\n",
      "140 [0.30039558, 0.59979206]\n",
      "150 [0.30031037, 0.5998368]\n",
      "160 [0.3002435, 0.599872]\n",
      "170 [0.30019107, 0.59989953]\n",
      "180 [0.30014992, 0.59992117]\n",
      "190 [0.3001176, 0.59993815]\n"
     ]
    }
   ],
   "source": [
    "x_data = np.random.rand(100)\n",
    "y_data = x_data*0.3 + 0.6\n",
    "\n",
    "b = tf.Variable(0.)\n",
    "k = tf.Variable(0.)\n",
    "y = k*x_data + b\n",
    "\n",
    "# 二次代价函数\n",
    "loss = tf.reduce_mean(tf.square(y_data - y))\n",
    "# 训练的优化器\n",
    "optimizer = tf.train.GradientDescentOptimizer(0.2)\n",
    "# 最小化代价函数\n",
    "train = optimizer.minimize(loss)\n",
    "\n",
    "# 初始化变量\n",
    "init = tf.global_variables_initializer()\n",
    "\n",
    "with tf.Session() as sess:\n",
    "    sess.run(init)\n",
    "    for step in range(200):\n",
    "        sess.run(train)\n",
    "        if step%10 == 0:\n",
    "            print(step, sess.run([k, b]))"
   ]
  },
  {
   "cell_type": "code",
   "execution_count": null,
   "metadata": {
    "collapsed": true
   },
   "outputs": [],
   "source": []
  }
 ],
 "metadata": {
  "kernelspec": {
   "display_name": "Python 3",
   "language": "python",
   "name": "python3"
  },
  "language_info": {
   "codemirror_mode": {
    "name": "ipython",
    "version": 3
   },
   "file_extension": ".py",
   "mimetype": "text/x-python",
   "name": "python",
   "nbconvert_exporter": "python",
   "pygments_lexer": "ipython3",
   "version": "3.5.4"
  }
 },
 "nbformat": 4,
 "nbformat_minor": 2
}
