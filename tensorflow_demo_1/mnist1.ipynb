{
 "cells": [
  {
   "cell_type": "code",
   "execution_count": 3,
   "metadata": {},
   "outputs": [],
   "source": [
    "import tensorflow as tf\n",
    "from tensorflow.examples.tutorials.mnist import input_data"
   ]
  },
  {
   "cell_type": "code",
   "execution_count": 5,
   "metadata": {},
   "outputs": [
    {
     "name": "stdout",
     "output_type": "stream",
     "text": [
      "Extracting MNIST_data\\train-images-idx3-ubyte.gz\n",
      "Extracting MNIST_data\\train-labels-idx1-ubyte.gz\n",
      "Extracting MNIST_data\\t10k-images-idx3-ubyte.gz\n",
      "Extracting MNIST_data\\t10k-labels-idx1-ubyte.gz\n"
     ]
    }
   ],
   "source": [
    "# 载入数据集\n",
    "mnist = input_data.read_data_sets(\"MNIST_data\", one_hot=True)"
   ]
  },
  {
   "cell_type": "code",
   "execution_count": 21,
   "metadata": {
    "collapsed": true
   },
   "outputs": [],
   "source": [
    "# 每个批次的大小\n",
    "batch_size = 200"
   ]
  },
  {
   "cell_type": "code",
   "execution_count": 7,
   "metadata": {
    "collapsed": true
   },
   "outputs": [],
   "source": [
    "# 计算一共多少个batch\n",
    "n_batch = mnist.train.num_examples // batch_size"
   ]
  },
  {
   "cell_type": "code",
   "execution_count": 8,
   "metadata": {
    "collapsed": true
   },
   "outputs": [],
   "source": [
    "# 定义两个placeholder\n",
    "x = tf.placeholder(tf.float32, [None, 784])\n",
    "y = tf.placeholder(tf.float32, [None, 10])"
   ]
  },
  {
   "cell_type": "code",
   "execution_count": 31,
   "metadata": {
    "collapsed": true
   },
   "outputs": [],
   "source": [
    "# 创建一个简单的神经网络\n",
    "W = tf.Variable(tf.zeros([784,10]))\n",
    "b = tf.Variable(tf.zeros([10]))\n",
    "prediction = tf.nn.sigmoid(tf.matmul(x, W) + b)"
   ]
  },
  {
   "cell_type": "code",
   "execution_count": 32,
   "metadata": {
    "collapsed": true
   },
   "outputs": [],
   "source": [
    "# 二次代价函数\n",
    "loss = tf.reduce_mean(tf.square(y-prediction))"
   ]
  },
  {
   "cell_type": "code",
   "execution_count": 33,
   "metadata": {
    "collapsed": true
   },
   "outputs": [],
   "source": [
    "# 使用梯度下降法\n",
    "train_step = tf.train.GradientDescentOptimizer(0.2).minimize(loss)"
   ]
  },
  {
   "cell_type": "code",
   "execution_count": 34,
   "metadata": {
    "collapsed": true
   },
   "outputs": [],
   "source": [
    "# 初始化变量\n",
    "init = tf.global_variables_initializer()"
   ]
  },
  {
   "cell_type": "code",
   "execution_count": 35,
   "metadata": {
    "collapsed": true
   },
   "outputs": [],
   "source": [
    "# 预测准确率\n",
    "correct_prediction = tf.equal(tf.argmax(y,1), tf.argmax(prediction, 1))"
   ]
  },
  {
   "cell_type": "code",
   "execution_count": 36,
   "metadata": {},
   "outputs": [],
   "source": [
    "# 计算准确率\n",
    "accuracy = tf.reduce_mean(tf.cast(correct_prediction,tf.float32))"
   ]
  },
  {
   "cell_type": "code",
   "execution_count": 37,
   "metadata": {},
   "outputs": [
    {
     "name": "stdout",
     "output_type": "stream",
     "text": [
      "200\n",
      "Iter 0,Testing Accuracy 0.8217\n",
      "Iter 1,Testing Accuracy 0.8526\n",
      "Iter 2,Testing Accuracy 0.8655\n",
      "Iter 3,Testing Accuracy 0.8722\n",
      "Iter 4,Testing Accuracy 0.877\n",
      "Iter 5,Testing Accuracy 0.8803\n",
      "Iter 6,Testing Accuracy 0.8843\n",
      "Iter 7,Testing Accuracy 0.8867\n",
      "Iter 8,Testing Accuracy 0.8894\n",
      "Iter 9,Testing Accuracy 0.8902\n",
      "Iter 10,Testing Accuracy 0.8919\n",
      "Iter 11,Testing Accuracy 0.8931\n",
      "Iter 12,Testing Accuracy 0.8946\n",
      "Iter 13,Testing Accuracy 0.895\n",
      "Iter 14,Testing Accuracy 0.896\n",
      "Iter 15,Testing Accuracy 0.8971\n",
      "Iter 16,Testing Accuracy 0.8978\n",
      "Iter 17,Testing Accuracy 0.8989\n",
      "Iter 18,Testing Accuracy 0.8996\n",
      "Iter 19,Testing Accuracy 0.9002\n",
      "Iter 20,Testing Accuracy 0.9008\n",
      "Iter 21,Testing Accuracy 0.9011\n",
      "Iter 22,Testing Accuracy 0.9023\n",
      "Iter 23,Testing Accuracy 0.9021\n",
      "Iter 24,Testing Accuracy 0.9033\n",
      "Iter 25,Testing Accuracy 0.9038\n",
      "Iter 26,Testing Accuracy 0.904\n",
      "Iter 27,Testing Accuracy 0.9046\n",
      "Iter 28,Testing Accuracy 0.9052\n",
      "Iter 29,Testing Accuracy 0.9057\n",
      "Iter 30,Testing Accuracy 0.9058\n",
      "Iter 31,Testing Accuracy 0.9061\n",
      "Iter 32,Testing Accuracy 0.9063\n",
      "Iter 33,Testing Accuracy 0.9068\n",
      "Iter 34,Testing Accuracy 0.9067\n",
      "Iter 35,Testing Accuracy 0.9074\n",
      "Iter 36,Testing Accuracy 0.9079\n",
      "Iter 37,Testing Accuracy 0.9078\n",
      "Iter 38,Testing Accuracy 0.908\n",
      "Iter 39,Testing Accuracy 0.9084\n",
      "Iter 40,Testing Accuracy 0.9084\n",
      "Iter 41,Testing Accuracy 0.909\n",
      "Iter 42,Testing Accuracy 0.9093\n",
      "Iter 43,Testing Accuracy 0.9098\n",
      "Iter 44,Testing Accuracy 0.9097\n",
      "Iter 45,Testing Accuracy 0.9098\n",
      "Iter 46,Testing Accuracy 0.9102\n",
      "Iter 47,Testing Accuracy 0.9105\n",
      "Iter 48,Testing Accuracy 0.9105\n",
      "Iter 49,Testing Accuracy 0.9105\n"
     ]
    }
   ],
   "source": [
    "print(batch_size)\n",
    "with tf.Session() as sess:\n",
    "    sess.run(init)\n",
    "    for epoch in range(50):\n",
    "        for batch in range(n_batch):\n",
    "            batch_xs, batch_ys = mnist.train.next_batch(batch_size)\n",
    "            sess.run(train_step, feed_dict={x: batch_xs, y:batch_ys})\n",
    "        acc = sess.run(accuracy, feed_dict={x: mnist.test.images, y:mnist.test.labels})\n",
    "        print('Iter ' + str(epoch) + ',Testing Accuracy '+ str(acc))\n",
    "        "
   ]
  },
  {
   "cell_type": "code",
   "execution_count": null,
   "metadata": {
    "collapsed": true
   },
   "outputs": [],
   "source": []
  }
 ],
 "metadata": {
  "kernelspec": {
   "display_name": "Python 3",
   "language": "python",
   "name": "python3"
  },
  "language_info": {
   "codemirror_mode": {
    "name": "ipython",
    "version": 3
   },
   "file_extension": ".py",
   "mimetype": "text/x-python",
   "name": "python",
   "nbconvert_exporter": "python",
   "pygments_lexer": "ipython3",
   "version": "3.5.4"
  }
 },
 "nbformat": 4,
 "nbformat_minor": 2
}
