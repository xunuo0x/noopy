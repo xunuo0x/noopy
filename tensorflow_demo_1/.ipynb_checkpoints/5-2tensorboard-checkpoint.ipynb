{
 "cells": [
  {
   "cell_type": "code",
   "execution_count": 1,
   "metadata": {
    "collapsed": true
   },
   "outputs": [],
   "source": [
    "import tensorflow as tf\n",
    "from tensorflow.examples.tutorials.mnist import input_data"
   ]
  },
  {
   "cell_type": "code",
   "execution_count": 10,
   "metadata": {},
   "outputs": [
    {
     "name": "stdout",
     "output_type": "stream",
     "text": [
      "Extracting MNIST_data\\train-images-idx3-ubyte.gz\n",
      "Extracting MNIST_data\\train-labels-idx1-ubyte.gz\n",
      "Extracting MNIST_data\\t10k-images-idx3-ubyte.gz\n",
      "Extracting MNIST_data\\t10k-labels-idx1-ubyte.gz\n",
      "Iter 0,Testing Accuracy 0.8594 ,Traing Accuracy 0.8506727\n"
     ]
    }
   ],
   "source": [
    "# 载入数据集\n",
    "mnist = input_data.read_data_sets(\"MNIST_data\", one_hot=True)\n",
    "\n",
    "# 每个批次的大小\n",
    "batch_size = 100\n",
    "\n",
    "# 计算一共多少个batch\n",
    "n_batch = mnist.train.num_examples // batch_size\n",
    "\n",
    "# 命名空间\n",
    "with tf.name_scope('input'):\n",
    "    # 定义两个placeholder\n",
    "    x = tf.placeholder(tf.float32, [None, 784], 'x-input')\n",
    "    y = tf.placeholder(tf.float32, [None, 10], 'y-input')\n",
    "keep_prob = tf.placeholder(tf.float32)\n",
    "# 学习率\n",
    "# lr = tf.Variable(0.001, dtype=tf.float32)\n",
    "\n",
    "# 创建一个简单的神经网络\n",
    "W1 = tf.Variable(tf.truncated_normal([784, 10], stddev = 0.1))\n",
    "b1 = tf.Variable(tf.zeros([10]) + 0.1)\n",
    "prediction = tf.nn.sigmoid(tf.matmul(x, W1) + b1)\n",
    "\n",
    "# 先注释掉多层神经网络的情况\n",
    "# L1 = tf.nn.tanh(tf.matmul(x, W1) + b1)\n",
    "# L1_drop = tf.nn.dropout(L1, keep_prob)\n",
    "\n",
    "# W2 = tf.Variable(tf.truncated_normal([500, 300], stddev = 0.1))\n",
    "# b2 = tf.Variable(tf.zeros([300]) + 0.1)\n",
    "# L2 = tf.nn.tanh(tf.matmul(L1_drop, W2) + b2)\n",
    "# L2_drop = tf.nn.dropout(L2, keep_prob)\n",
    "\n",
    "# W3 = tf.Variable(tf.truncated_normal([300, 10], stddev = 0.1))\n",
    "# b3 = tf.Variable(tf.zeros([10]) + 0.1)\n",
    "# prediction = tf.nn.sigmoid(tf.matmul(L2_drop, W3) + b3)\n",
    "\n",
    "# 二次代价函数\n",
    "#loss = tf.reduce_mean(tf.square(y-prediction))\n",
    "# 交叉熵代价函数\n",
    "loss = tf.reduce_mean(tf.nn.softmax_cross_entropy_with_logits(labels=y, logits=prediction))\n",
    "\n",
    "# 优化器：使用梯度下降法\n",
    "train_step = tf.train.GradientDescentOptimizer(0.2).minimize(loss)\n",
    "# train_step = tf.train.(lr).minimize(loss)\n",
    "\n",
    "# 初始化变量\n",
    "init = tf.global_variables_initializer()\n",
    "\n",
    "# 预测准确率\n",
    "correct_prediction = tf.equal(tf.argmax(y,1), tf.argmax(prediction, 1))\n",
    "# 计算准确率\n",
    "accuracy = tf.reduce_mean(tf.cast(correct_prediction,tf.float32))\n",
    "\n",
    "with tf.Session() as sess:\n",
    "    sess.run(init)\n",
    "    writer = tf.summary.FileWriter('logs/',sess.graph)\n",
    "    for epoch in range(1):\n",
    "#         sess.run(tf.assign(lr, 0.001*(0.95 ** epoch)))\n",
    "        for batch in range(n_batch):\n",
    "            batch_xs, batch_ys = mnist.train.next_batch(batch_size)\n",
    "            sess.run(train_step, feed_dict={x: batch_xs, y:batch_ys, keep_prob: 1.0})\n",
    "        \n",
    "#         learning_rate = sess.run(lr)\n",
    "        test_acc = sess.run(accuracy, feed_dict={x: mnist.test.images, y:mnist.test.labels, keep_prob: 1.0})\n",
    "        train_acc = sess.run(accuracy, feed_dict={x: mnist.train.images, y:mnist.train.labels, keep_prob: 1.0})\n",
    "        print('Iter ' + str(epoch) + ',Testing Accuracy '+ str(test_acc) + ' ,Traing Accuracy '+ str(train_acc))\n",
    "#         print('Iter ' + str(epoch) + ',Testing Accuracy '+ str(test_acc) + ' ,Traing Accuracy '+ str(train_acc)+ ' ,Learning Rate '+ str(learning_rate))"
   ]
  },
  {
   "cell_type": "code",
   "execution_count": null,
   "metadata": {
    "collapsed": true
   },
   "outputs": [],
   "source": []
  }
 ],
 "metadata": {
  "kernelspec": {
   "display_name": "Python 3",
   "language": "python",
   "name": "python3"
  },
  "language_info": {
   "codemirror_mode": {
    "name": "ipython",
    "version": 3
   },
   "file_extension": ".py",
   "mimetype": "text/x-python",
   "name": "python",
   "nbconvert_exporter": "python",
   "pygments_lexer": "ipython3",
   "version": "3.5.4"
  }
 },
 "nbformat": 4,
 "nbformat_minor": 2
}
